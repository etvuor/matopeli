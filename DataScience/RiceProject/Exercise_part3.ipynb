{
 "cells": [
  {
   "cell_type": "code",
   "execution_count": 2,
   "id": "5c839eed",
   "metadata": {},
   "outputs": [
    {
     "data": {
      "text/html": [
       "<style>.container { width:90% !important; }</style>"
      ],
      "text/plain": [
       "<IPython.core.display.HTML object>"
      ]
     },
     "metadata": {},
     "output_type": "display_data"
    }
   ],
   "source": [
    "#importing all the packages needed\n",
    "import numpy as np\n",
    "import pandas as pd\n",
    "from matplotlib import pyplot as plt\n",
    "from IPython.display import display, HTML\n",
    "display(HTML(\"<style>.container { width:90% !important; }</style>\"))\n",
    "\n",
    "from sklearn.decomposition import PCA\n",
    "from sklearn.neural_network import MLPClassifier\n",
    "\n",
    "from sklearn.model_selection import RepeatedKFold\n",
    "from sklearn.neighbors import KNeighborsClassifier\n",
    "from sklearn.model_selection import GridSearchCV\n",
    "from sklearn.ensemble import RandomForestClassifier\n",
    "from sklearn.model_selection import KFold, cross_val_score, RepeatedKFold, cross_val_predict\n",
    "from sklearn.metrics import accuracy_score, confusion_matrix\n",
    "from collections import Counter"
   ]
  },
  {
   "cell_type": "code",
   "execution_count": 3,
   "id": "e2961096",
   "metadata": {},
   "outputs": [],
   "source": [
    "#this is from part2 I hadn't saved the standardized data that's why it's done again here\n",
    "#taking the data and standardizing it\n",
    "df = pd.read_csv('training_data/rice_feature_data.csv')\n",
    "feats = ['mean_b', 'var_b', 'skew_b', 'kurt_b', 'entr_b', 'mean_g', 'var_g',\n",
    "       'skew_g', 'kurt_g', 'entr_g', 'mean_r', 'var_r', 'skew_r', 'kurt_r',\n",
    "       'entr_r', 'major_axis_length', 'minor_axis_length', 'area', 'perimeter',\n",
    "       'roundness', 'aspect_ratio']\n",
    "for feat in feats:\n",
    "    df['{}_Z'.format(feat)] = (df[feat] - df[feat].mean()) / df[feat].std()\n",
    "\n",
    "feats_Z = [feat + '_Z' for feat in feats]\n",
    "\n",
    "y = df['class'].values\n",
    "X = df[feats_Z].values"
   ]
  },
  {
   "cell_type": "code",
   "execution_count": 4,
   "id": "938c7efe",
   "metadata": {},
   "outputs": [
    {
     "name": "stdout",
     "output_type": "stream",
     "text": [
      "KNN - Best Params: {'n_neighbors': 9}\n",
      "KNN - Accuracy: 0.9800000000000001\n",
      "KNN - Confusion Matrix:\n",
      "[[99  0  1]\n",
      " [ 0 99  1]\n",
      " [ 2  2 96]]\n",
      "KNN - Most frequent hyperparameters: ((('n_neighbors', 1),), 0.9744444444444443) with score 1\n",
      "Random Forest - Best Params: {'max_depth': 2, 'max_features': 3}\n",
      "Random Forest - Accuracy: 0.99\n",
      "Random Forest - Confusion Matrix:\n",
      "[[100   0   0]\n",
      " [  0  99   1]\n",
      " [  1   1  98]]\n",
      "Random Forest - Most frequent hyperparameters: ((('max_depth', 2), ('max_features', 2)), 0.9855555555555554) with score 1\n",
      "MLP - Best Params: {'activation': 'relu', 'hidden_layer_sizes': 19, 'solver': 'adam', 'validation_fraction': 0.5}\n",
      "MLP - Accuracy: 0.9733333333333334\n",
      "MLP - Confusion Matrix:\n",
      "[[100   0   0]\n",
      " [  3  95   2]\n",
      " [  3   0  97]]\n",
      "MLP - Most frequent hyperparameters: ((('activation', 'logistic'), ('hidden_layer_sizes', 3), ('solver', 'sgd'), ('validation_fraction', 0.1)), 0.2733333333333333) with score 1\n"
     ]
    }
   ],
   "source": [
    "# Define models and their respective hyperparameter search ranges\n",
    "models = {\n",
    "    'KNN': KNeighborsClassifier(),\n",
    "    'Random Forest': RandomForestClassifier(random_state=20),\n",
    "    'MLP': MLPClassifier(max_iter=500, early_stopping=True, random_state=20)\n",
    "}\n",
    "\n",
    "params = {\n",
    "    'KNN': {'n_neighbors': range(1, 30)},\n",
    "    'Random Forest': {'max_depth': [2, 4, 6, 8, 10, 12], 'max_features': [2, 3, 4, 5, 6, 7, 8]},\n",
    "    'MLP': {'hidden_layer_sizes': range(3,22),\n",
    "            'activation': ['logistic', 'relu'],\n",
    "            'solver': ['sgd', 'adam'],\n",
    "            'validation_fraction': [0.1,0.5]}\n",
    "}\n",
    "\n",
    "# Perform nested cross-validation for each model\n",
    "outer_kf = KFold(n_splits=10, shuffle=True, random_state=10)\n",
    "inner_kf = RepeatedKFold(n_splits=5, n_repeats=3, random_state=50)\n",
    "\n",
    "for name, model in models.items():\n",
    "    # Define parameter grid for this model\n",
    "    param_grid = params[name]\n",
    "\n",
    "    # Perform grid search for best hyperparameters\n",
    "    grid_search = GridSearchCV(estimator=model, param_grid=param_grid, cv=inner_kf)\n",
    "    grid_search.fit(X, y)\n",
    "\n",
    "    # Use best hyperparameters to evaluate model\n",
    "    best_model = grid_search.best_estimator_\n",
    "    accuracy = cross_val_score(best_model, X=X, y=y, cv=outer_kf, scoring='accuracy')\n",
    "    y_pred = cross_val_predict(best_model, X=X, y=y, cv=outer_kf)\n",
    "    cm = confusion_matrix(y, y_pred)\n",
    "    \n",
    "    # Print results for this model\n",
    "    print(f\"{name} - Best Params: {grid_search.best_params_}\")\n",
    "    print(f\"{name} - Accuracy: {accuracy.mean()}\")\n",
    "    print(f\"{name} - Confusion Matrix:\\n{cm}\")\n",
    "    \n",
    "    # Determine the most frequent hyperparameters for this model\n",
    "    param_results = [(tuple(params.items()), mean_test_score) for params, mean_test_score in zip(grid_search.cv_results_['params'], grid_search.cv_results_['mean_test_score'])]\n",
    "    freq_params = Counter(param_results)\n",
    "    most_freq_params = freq_params.most_common(1)[0]\n",
    "    print(f\"{name} - Most frequent hyperparameters: {most_freq_params[0]} with score {most_freq_params[1]}\")\n"
   ]
  }
 ],
 "metadata": {
  "kernelspec": {
   "display_name": "Python 3 (ipykernel)",
   "language": "python",
   "name": "python3"
  },
  "language_info": {
   "codemirror_mode": {
    "name": "ipython",
    "version": 3
   },
   "file_extension": ".py",
   "mimetype": "text/x-python",
   "name": "python",
   "nbconvert_exporter": "python",
   "pygments_lexer": "ipython3",
   "version": "3.12.3"
  },
  "toc": {
   "base_numbering": 1,
   "nav_menu": {},
   "number_sections": true,
   "sideBar": true,
   "skip_h1_title": false,
   "title_cell": "Table of Contents",
   "title_sidebar": "Contents",
   "toc_cell": false,
   "toc_position": {
    "height": "calc(100% - 180px)",
    "left": "10px",
    "top": "150px",
    "width": "232px"
   },
   "toc_section_display": true,
   "toc_window_display": true
  }
 },
 "nbformat": 4,
 "nbformat_minor": 5
}
